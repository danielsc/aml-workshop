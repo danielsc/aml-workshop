{
 "cells": [
  {
   "cell_type": "markdown",
   "metadata": {},
   "source": [
    "Copyright (c) Microsoft Corporation. All rights reserved.\n",
    "\n",
    "Licensed under the MIT License."
   ]
  },
  {
   "cell_type": "code",
   "execution_count": 1,
   "metadata": {},
   "outputs": [],
   "source": [
    "from azureml.core import Workspace\n",
    "ws = Workspace.get(name=<<your workspace name>>, subscription_id='4feb84f6-2c10-4536-9c8a-0a2360eabfc5', resource_group='azureml')"
   ]
  },
  {
   "cell_type": "markdown",
   "metadata": {},
   "source": [
    "## Register a small magic to more conveniently write out a file"
   ]
  },
  {
   "cell_type": "code",
   "execution_count": 2,
   "metadata": {},
   "outputs": [],
   "source": [
    "from IPython.core.magic import register_line_cell_magic\n",
    "\n",
    "@register_line_cell_magic\n",
    "def writetemplate(line, cell):\n",
    "    with open(line, 'w') as f:\n",
    "        f.write(cell.format(**globals()))"
   ]
  },
  {
   "cell_type": "markdown",
   "metadata": {},
   "source": [
    "## Get the datastore to mount and set the target and temp paths"
   ]
  },
  {
   "cell_type": "code",
   "execution_count": 3,
   "metadata": {},
   "outputs": [],
   "source": [
    "ds = ws.get_default_datastore()\n",
    "mount_path='~/data/amldefaultdatastore'\n",
    "temp_path='~/data/temp'"
   ]
  },
  {
   "cell_type": "markdown",
   "metadata": {},
   "source": [
    "## Write out scripts that do the mount and umount for the datastore"
   ]
  },
  {
   "cell_type": "code",
   "execution_count": 4,
   "metadata": {},
   "outputs": [],
   "source": [
    "%%writetemplate mount_{ds.name}.sh\n",
    "mkdir -p {mount_path}\n",
    "mkdir -p {temp_path}\n",
    "export AZURE_STORAGE_ACCOUNT={ds.account_name}\n",
    "export AZURE_STORAGE_ACCESS_KEY={ds.account_key}\n",
    "blobfuse {mount_path} --container-name={ds.container_name} --tmp-path={temp_path}"
   ]
  },
  {
   "cell_type": "code",
   "execution_count": 5,
   "metadata": {},
   "outputs": [],
   "source": [
    "%%writetemplate umount_{ds.name}.sh\n",
    "fusermount -u {mount_path}"
   ]
  },
  {
   "cell_type": "markdown",
   "metadata": {},
   "source": [
    "## Try out the scripts"
   ]
  },
  {
   "cell_type": "code",
   "execution_count": 13,
   "metadata": {},
   "outputs": [],
   "source": [
    "!sh mount_{ds.name}.sh"
   ]
  },
  {
   "cell_type": "code",
   "execution_count": 14,
   "metadata": {},
   "outputs": [
    {
     "name": "stdout",
     "output_type": "stream",
     "text": [
      "total 4\r\n",
      "drwxrwx--- 2 danielsc 4096 Nov  1 21:27 .\r\n",
      "drwxrwxr-x 4 danielsc 4096 Nov  1 04:50 ..\r\n",
      "drwxrwx--- 3 danielsc 4096 Jan  1  1970 imagenet_samples\r\n",
      "drwxrwx--- 3 danielsc 4096 Jan  1  1970 mnist\r\n",
      "drwxrwx--- 3 danielsc 4096 Jan  1  1970 mnistx\r\n"
     ]
    }
   ],
   "source": [
    "!ls {mount_path} -alg"
   ]
  },
  {
   "cell_type": "code",
   "execution_count": 12,
   "metadata": {},
   "outputs": [],
   "source": [
    "!sh umount_{ds.name}.sh"
   ]
  },
  {
   "cell_type": "code",
   "execution_count": 15,
   "metadata": {},
   "outputs": [
    {
     "name": "stdout",
     "output_type": "stream",
     "text": [
      "\u001b[0m\u001b[01;34m~\u001b[0m/       mount-datastore.ipynb        README.md\r\n",
      "LICENSE  mount_workspaceblobstore.sh  umount_workspaceblobstore.sh\r\n"
     ]
    }
   ],
   "source": [
    "ls "
   ]
  },
  {
   "cell_type": "code",
   "execution_count": null,
   "metadata": {},
   "outputs": [],
   "source": []
  }
 ],
 "metadata": {
  "kernelspec": {
   "display_name": "Python 3.6 - AzureML",
   "language": "python",
   "name": "python3-azureml"
  },
  "language_info": {
   "codemirror_mode": {
    "name": "ipython",
    "version": 3
   },
   "file_extension": ".py",
   "mimetype": "text/x-python",
   "name": "python",
   "nbconvert_exporter": "python",
   "pygments_lexer": "ipython3",
   "version": "3.6.6"
  }
 },
 "nbformat": 4,
 "nbformat_minor": 2
}
