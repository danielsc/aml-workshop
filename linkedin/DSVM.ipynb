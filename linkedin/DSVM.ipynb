{
 "cells": [
  {
   "cell_type": "markdown",
   "metadata": {},
   "source": [
    "## Installation of the DSVM"
   ]
  },
  {
   "cell_type": "markdown",
   "metadata": {},
   "source": [
    "1. Go to http://portal.azure.com\n",
    "- Search for \"data science virtual machine for linux (ubuntu)\"\n",
    "- Select from Marketplace\n",
    "- Click create\n",
    "    - Subscription: LinkedIn Azure ML Pilot\n",
    "    - Resouce Group: azureml\n",
    "    - VM name: `your alias`\n",
    "    - Region: West Europe\n",
    "    - Image: data science virtual machine for linux (ubuntu)\n",
    "    - Size: \n",
    "        - Change size\n",
    "        - Clear all filters\n",
    "        - Search for NC6\n",
    "        - Choose NC6 \n",
    "        - Select\n",
    "    - Authentication type: Password\n",
    "    - Username: your unix user name (`id -u -n`)\n",
    "    - Password: ….\n",
    "- The rest just click thought and click Create\n",
    "    - Deployment will take about 3-5 minutes\n",
    "- Go to resource\n",
    "- Click on connect\n",
    "- Copy ssh command\n",
    "- Run ssh command -- login with password\n",
    "- Open terminal on your local mac and type cat ~/.ssh/id_rsa.pub\n",
    "- Paste the content into ~/.ssh/authorized_keys on the DSVM\n",
    "- Now you can ssh in without typing a password\n",
    "- On you mac, create a file dsvm.sh with the following content\n",
    "```\n",
    "ssh <<your_user>>@<<your_dsmv's_ip>> -L 8889:localhost:8888 -L 6007:localhost:6006\n",
    "```\n",
    "- Make the file executable with chmod a+x dsvm.sh\n",
    "- Run ./dsvm.sh\n",
    "- on the DSVM, run the following code to update the AzureML Python SDK \n",
    "```shell\n",
    "source activate py36\n",
    "pip install --upgrade azureml-sdk[notebooks,contrib,automl] --user\n",
    "jupyter nbextension install --py --user azureml.train.widgets\n",
    "jupyter nbextension enable azureml.train.widgets --user --py\n",
    "```\n",
    "- clone the repos we will use today\n",
    "```shell\n",
    "cd ~/notebooks\n",
    "git clone https://github.com/danielsc/aml-workshop\n",
    "git clone https://github.com/Azure/MachineLearningNotebooks\n",
    "```\n",
    "- now start jupyter\n",
    "```shell\n",
    "nohup jupyter notebook &\n",
    "```\n",
    "- on your mac, point your browser to http://localhost:8889\n"
   ]
  },
  {
   "cell_type": "markdown",
   "metadata": {},
   "source": []
  }
 ],
 "metadata": {
  "kernelspec": {
   "display_name": "Python 3.6 - AzureML",
   "language": "python",
   "name": "python3-azureml"
  },
  "language_info": {
   "codemirror_mode": {
    "name": "ipython",
    "version": 3
   },
   "file_extension": ".py",
   "mimetype": "text/x-python",
   "name": "python",
   "nbconvert_exporter": "python",
   "pygments_lexer": "ipython3",
   "version": "3.6.6"
  }
 },
 "nbformat": 4,
 "nbformat_minor": 2
}
